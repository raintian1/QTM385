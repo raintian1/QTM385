{
 "cells": [
  {
   "cell_type": "markdown",
   "metadata": {},
   "source": [
    "# QTM 385\n",
    "\n",
    "***\n",
    "\n",
    "## Midterm\n",
    "\n",
    "Student: Rain Tian"
   ]
  },
  {
   "cell_type": "markdown",
   "metadata": {},
   "source": [
    "***\n",
    "\n",
    "In this homework, you will create a code to encrypt and decrypt a message in a text file. If you need a file to test, check the folder midterm on Canvas.\n",
    "\n",
    "The file with the original message should always be `message.txt`. One example of content inside this file is:\n",
    "\n",
    "```\n",
    "this is my message\n",
    "and it is very important\n",
    "please pass it along\n",
    "```\n",
    "\n",
    "The first thing you need to do is to create a command prompt. The command prompt should be able to receive eight commands:\n",
    "\n",
    "1. **show-message**: Display the original message on the screen. If the message has more than ten lines, display only the first and the last five lines.\n",
    "\n",
    "2. **show-encrypted**: Display the encrypted message on the screen. If the message has more than ten lines, display only the first and the last five lines.\n",
    "\n",
    "3. **show-key**: Display the 3-digit encryption key.\n",
    "\n",
    "4. **set-key**: Request for the user a new encryption key. Save it as a [global variable](https://www.w3schools.com/python/gloss_python_global_variables.asp).\n",
    "\n",
    "5. **show-map**: Return two dictionaries, with a character mapping for encrypting and decrypting the message, based on the encryption key.\n",
    "\n",
    "6. **encrypt**: Open the file `message.txt`, encrypt it, and save the result in a file called `encrypted.txt`.\n",
    "\n",
    "7. **decrypt**: Open the file `encrypted.txt`, decrypt it, and display the original message on the screen.\n",
    "\n",
    "8. **bye**: Finishes the execution of the program.\n",
    "\n",
    "To get full marks, all commands should be working fine. The code should be efficient in the sense that you avoid useless coding or computations. Here is the expected behavior of each function:\n",
    "\n",
    "0. **the command prompt** and the **bye** command:\n",
    "\n",
    "The first thing you should do when getting started is to set a key. You can call the **set-key** function right at the beginning. After that, you should see a command prompt like this:\n",
    "\n",
    "```\n",
    ">> \n",
    "```\n",
    "\n",
    "Or \n",
    "\n",
    "```\n",
    "Enter your command here: >\n",
    "```\n",
    "\n",
    "Or something similar. If you type one of the commands above, it should execute the instruction. Otherwise, it should display:\n",
    "\n",
    "```\n",
    "Error. Invalid command.\n",
    "```\n",
    "\n",
    "And show the prompt again. If the user types **bye** in the prompt, it should display:\n",
    "\n",
    "```\n",
    "Bye! Have a nice day.\n",
    "```\n",
    "\n",
    "And stops the execution.\n",
    "\n",
    "1. **show-message**\n",
    "\n",
    "For file 1 above, it should display:\n",
    "\n",
    "```\n",
    "this is my message\n",
    "and it is very important\n",
    "please pass it along\n",
    "```\n",
    "\n",
    "For file 2 above, it should display:\n",
    "\n",
    "```\n",
    "you should go to the supermarket\n",
    "close to our place\n",
    "and buy\n",
    "rice\n",
    "beans\n",
    "...\n",
    "pizza\n",
    "ice cream\n",
    "water\n",
    "impossible burger\n",
    "eggs\n",
    "```\n",
    "\n",
    "If there is no file called `message.txt` in the folder, display:\n",
    "\n",
    "```\n",
    "Error. 'message.txt' is not available.\n",
    "```\n",
    "\n",
    "2. **show-encrypted**\n",
    "\n",
    "My encryption, for file 1 above and using 123 as the encryption key, displayed:\n",
    "\n",
    "```\n",
    "zupm pm xi xhmmeth\n",
    "eaj pz pm yhri pxqwrzeaz\n",
    "qshemh qemm pz eswat\n",
    "```\n",
    "\n",
    "My encryption, for file 2 above and using 123 as the encryption key, displayed:\n",
    "\n",
    "```\n",
    "iwd muwdsj tw zw zuh mdqhrxerfhz\n",
    "lswmh zw wdr qselh\n",
    "eaj gdi\n",
    "rplh\n",
    "gheam\n",
    "...\n",
    "qpbbe\n",
    "plh lrhex\n",
    "nezhr\n",
    "pxqwmmpgsh gdrthr\n",
    "httm\n",
    "```\n",
    "\n",
    "If there is no file called `encrypted.txt` in the folder, display:\n",
    "\n",
    "```\n",
    "Error. 'encrypted.txt' is not available.\n",
    "```\n",
    "\n",
    "3. **show-key**\n",
    "\n",
    "If the encryption key is 123, it should display:\n",
    "\n",
    "```\n",
    "The encryption key is: 123\n",
    "```\n",
    "\n",
    "4. **set-key**\n",
    "\n",
    "It should ask the user:\n",
    "\n",
    "```\n",
    "Type the encryption key: \n",
    "```\n",
    "\n",
    "If the user types something that is not a number between 100 and 999, you should show:\n",
    "\n",
    "```\n",
    "Error: it should be a number between 100 and 999.\n",
    "```\n",
    "\n",
    "And ask for the encryption key again.\n",
    "\n",
    "5. **show-map**\n",
    "\n",
    "In my program, when I type it for the `123` key, it shows:\n",
    "\n",
    "```\n",
    "The encryption map is: \n",
    "a => e\tb => g\tc => l\td => j\te => h\tf => o\tg => t\th => u\ti => p\tj => v\tk => f\tl => s\tm => x\tn => a\to => w\tp => q\tq => k\tr => r\ts => m\tt => z\tu => d\tv => y\tw => n\tx => c\ty => i\tz => b\t\n",
    "\n",
    "And the decryption map is: \n",
    "e => a\tg => b\tl => c\tj => d\th => e\to => f\tt => g\tu => h\tp => i\tv => j\tf => k\ts => l\tx => m\ta => n\tw => o\tq => p\tk => q\tr => r\tm => s\tz => t\td => u\ty => v\tn => w\tc => x\ti => y\tb => z\t\n",
    "```\n",
    "\n",
    "Note that I separated values using *tab*. Check hints 4 and 5 below.\n",
    "\n",
    "6. **encrypt**\n",
    "\n",
    "When you pass this command, the program reads the file `message.txt`, encrypt it, save the result in the `encrypted.txt`, and then displays:\n",
    "\n",
    "```\n",
    "Successful encryption.\n",
    "```\n",
    "\n",
    "If something happens, such as no `message.txt` was supplied, it should display:\n",
    "\n",
    "```\n",
    "Error. The encryption failed.\n",
    "```\n",
    "\n",
    "7. **decrypt**\n",
    "\n",
    "When you pass this command, the program reads the file `encrypted.txt`, decrypt it, and display:\n",
    "\n",
    "```\n",
    "Successfully decrypted.\n",
    "Your message is:\n",
    "```\n",
    "\n",
    "And the message should go here. If the decryption fails for some reason, it should display:\n",
    "\n",
    "```\n",
    "Error. The decryption failed.\n",
    "```\n",
    "\n",
    "**Hints:**\n",
    "\n",
    "1. This StackOverflow question shows how to list the characters: https://stackoverflow.com/questions/3190122/python-how-to-print-range-a-z\n",
    "\n",
    "2. This webpage here shows how to use try-except: https://www.w3schools.com/python/python_try_except.asp\n",
    "\n",
    "3. This webpage here talks about ways to convert two lists into a dictionary: https://www.tutorialspoint.com/convert-two-lists-into-a-dictionary-in-python\n",
    "\n",
    "4. This webpage discusses the end parameter of the print function: https://www.stechies.com/python-end-parameter-print/\n",
    "\n",
    "5. To do a TAB, use `\\t`.\n",
    "\n",
    "6. How did I solve it? I started with the prompt, moved to the \\*-key functions, then to reading the files, then build the map, and finally, all else.\n",
    "\n",
    "7. This is a hard midterm. It took me six times more than a regular problem set. To do well you should start as soon as possible.\n",
    "\n",
    "**Good luck!**"
   ]
  },
  {
   "cell_type": "markdown",
   "metadata": {},
   "source": [
    "***"
   ]
  },
  {
   "cell_type": "markdown",
   "metadata": {},
   "source": [
    "## General Plan"
   ]
  },
  {
   "cell_type": "markdown",
   "metadata": {},
   "source": [
    "For this program, my thought is to define each prompt as its own function, and the final \"main\" function (at the end of the page) would simply call these subsidiary functions based on user input. The order of creation of the sub-functions is not in the same order as they appear in the main function, but rather ordered in terms of _logic_ - i.e: we have to set the key first (prompt 4) before doing any encryption (prompt 2)."
   ]
  },
  {
   "cell_type": "markdown",
   "metadata": {},
   "source": [
    "### 0: Load Packages"
   ]
  },
  {
   "cell_type": "code",
   "execution_count": 1,
   "metadata": {},
   "outputs": [],
   "source": [
    "import random as rd\n",
    "import string"
   ]
  },
  {
   "cell_type": "markdown",
   "metadata": {},
   "source": [
    "### 1: Set Key"
   ]
  },
  {
   "cell_type": "code",
   "execution_count": 2,
   "metadata": {},
   "outputs": [
    {
     "name": "stdout",
     "output_type": "stream",
     "text": [
      "Type the encryption key: 112\n"
     ]
    }
   ],
   "source": [
    "def setkey():\n",
    "    global key\n",
    "    global encryption_map\n",
    "    global decryption_map\n",
    "    \n",
    "    key = input('Type the encryption key: ')\n",
    "    \n",
    "    try:\n",
    "        if int(key) < 100 or int(key) > 999:\n",
    "            print('Error: it should be a number between 100 and 999.')\n",
    "            setkey()\n",
    "        \n",
    "        original_alphabet = list(string.ascii_lowercase)\n",
    "        shuffling_alphabet = list(string.ascii_lowercase)\n",
    "    \n",
    "        shuffled_alphabet = shuffling_alphabet[:]\n",
    "        \n",
    "        rd.seed(key)\n",
    "        rd.shuffle(shuffled_alphabet)\n",
    "    \n",
    "        encryption_map = dict(zip(original_alphabet, shuffled_alphabet))\n",
    "        decryption_map = {e:o for o, e in encryption_map.items()}\n",
    "\n",
    "    except:\n",
    "        print('Error: it should be an integer.')\n",
    "        setkey()\n",
    "\n",
    "setkey()"
   ]
  },
  {
   "cell_type": "markdown",
   "metadata": {},
   "source": [
    "### 2: Show Key"
   ]
  },
  {
   "cell_type": "code",
   "execution_count": 3,
   "metadata": {},
   "outputs": [
    {
     "name": "stdout",
     "output_type": "stream",
     "text": [
      "The encryption key is: 112\n"
     ]
    }
   ],
   "source": [
    "def showkey():\n",
    "    print('The encryption key is: ' + key)\n",
    "\n",
    "showkey()"
   ]
  },
  {
   "cell_type": "markdown",
   "metadata": {},
   "source": [
    "### 3: Show Message"
   ]
  },
  {
   "cell_type": "code",
   "execution_count": 4,
   "metadata": {},
   "outputs": [
    {
     "name": "stdout",
     "output_type": "stream",
     "text": [
      "you should go to the supermarket\n",
      "close to our place\n",
      "and buy\n",
      "rice\n",
      "beans\n",
      "... \n",
      "pizza\n",
      "ice cream\n",
      "water\n",
      "impossible burger\n",
      "eggs\n"
     ]
    }
   ],
   "source": [
    "def showmessage():\n",
    "    try:\n",
    "        message = open('message.txt', 'r')\n",
    "        lines = message.readlines()\n",
    "        \n",
    "        if len(lines) <= 10:\n",
    "            print(''.join(lines))\n",
    "\n",
    "        else:\n",
    "            first5 = ''.join(lines[:5])\n",
    "            last5 = ''.join(lines[-5:])\n",
    "            print(first5 + '... \\n' + last5)\n",
    "        \n",
    "        message.close()\n",
    "        \n",
    "    except:\n",
    "        print(\"Error. 'message.txt' is not available.\")\n",
    "\n",
    "showmessage()"
   ]
  },
  {
   "cell_type": "markdown",
   "metadata": {},
   "source": [
    "### 4: Show Map"
   ]
  },
  {
   "cell_type": "code",
   "execution_count": 5,
   "metadata": {},
   "outputs": [
    {
     "name": "stdout",
     "output_type": "stream",
     "text": [
      "The encryption map is: \n",
      "a => f\tb => d\tc => j\td => s\te => t\tf => b\tg => i\th => m\ti => g\tj => u\tk => h\tl => y\tm => k\tn => x\to => q\tp => r\tq => n\tr => w\ts => c\tt => e\tu => a\tv => o\tw => l\tx => z\ty => v\tz => p\t\n",
      "\n",
      "And the decryption map is:\n",
      "f => a\td => b\tj => c\ts => d\tt => e\tb => f\ti => g\tm => h\tg => i\tu => j\th => k\ty => l\tk => m\tx => n\tq => o\tr => p\tn => q\tw => r\tc => s\te => t\ta => u\to => v\tl => w\tz => x\tv => y\tp => z\t"
     ]
    }
   ],
   "source": [
    "def showmap():\n",
    "    # Encryption Map\n",
    "    print('The encryption map is: ')\n",
    "    for original, encrypted in encryption_map.items():\n",
    "        print(original + ' => ' + encrypted, end = '\\t')\n",
    "\n",
    "    # Decryption Map\n",
    "    print('\\n')\n",
    "    print('And the decryption map is:')\n",
    "    for encrypted, original in decryption_map.items():\n",
    "        print(encrypted + ' => ' + original, end = '\\t')\n",
    "\n",
    "showmap()"
   ]
  },
  {
   "cell_type": "markdown",
   "metadata": {},
   "source": [
    "### 5: Encrypt"
   ]
  },
  {
   "cell_type": "code",
   "execution_count": 6,
   "metadata": {},
   "outputs": [
    {
     "name": "stdout",
     "output_type": "stream",
     "text": [
      "Successful encryption.\n"
     ]
    }
   ],
   "source": [
    "def encrypt():\n",
    "    try:\n",
    "        message = open('message.txt', 'r')\n",
    "    \n",
    "        encrypted_message = []\n",
    "        \n",
    "        for line in message:\n",
    "            for character in line:\n",
    "                if character in encryption_map:\n",
    "                    encrypted_message.append(encryption_map[character])\n",
    "                else:\n",
    "                    encrypted_message.append(character)\n",
    "\n",
    "        message.close()\n",
    "\n",
    "        encrypted = open('encrypted.txt', 'w')\n",
    "\n",
    "        for letters in encrypted_message:\n",
    "            encrypted.write(letters)\n",
    "\n",
    "        encrypted.close()\n",
    "        print('Successful encryption.')\n",
    "    \n",
    "    except:\n",
    "        print('Error. The encryption failed.')\n",
    "    \n",
    "\n",
    "encrypt()"
   ]
  },
  {
   "cell_type": "markdown",
   "metadata": {},
   "source": [
    "### 6: Show Encrypted"
   ]
  },
  {
   "cell_type": "code",
   "execution_count": 7,
   "metadata": {},
   "outputs": [
    {
     "name": "stdout",
     "output_type": "stream",
     "text": [
      "vqa cmqays iq eq emt cartwkfwhte\n",
      "jyqct eq qaw ryfjt\n",
      "fxs dav\n",
      "wgjt\n",
      "dtfxc\n",
      "... \n",
      "rgppf\n",
      "gjt jwtfk\n",
      "lfetw\n",
      "gkrqccgdyt dawitw\n",
      "tiic\n"
     ]
    }
   ],
   "source": [
    "def showencrypted():\n",
    "    try:\n",
    "        encrypted = open('encrypted.txt', 'r')\n",
    "        elines = encrypted.readlines()\n",
    "        \n",
    "        if len(elines) <= 10:\n",
    "            print(''.join(elines))\n",
    "\n",
    "        else:\n",
    "            first5e = ''.join(elines[:5])\n",
    "            last5e = ''.join(elines[-5:])\n",
    "            print(first5e + '... \\n' + last5e)\n",
    "        \n",
    "        encrypted.close()\n",
    "        \n",
    "    except:\n",
    "        print(\"Error. 'encrypted.txt' is not available.\")\n",
    "\n",
    "showencrypted()"
   ]
  },
  {
   "cell_type": "markdown",
   "metadata": {},
   "source": [
    "### 7: Decrypt"
   ]
  },
  {
   "cell_type": "code",
   "execution_count": 8,
   "metadata": {},
   "outputs": [
    {
     "name": "stdout",
     "output_type": "stream",
     "text": [
      "Successful decryption. \n",
      "Your message is: \n",
      "\n",
      "you should go to the supermarket\n",
      "close to our place\n",
      "and buy\n",
      "rice\n",
      "beans\n",
      "olive oil\n",
      "bread\n",
      "french fries\n",
      "diet coke\n",
      "pizza\n",
      "ice cream\n",
      "water\n",
      "impossible burger\n",
      "eggs\n"
     ]
    }
   ],
   "source": [
    "def decrypt():\n",
    "    try:\n",
    "        emessage = open('encrypted.txt', 'r')\n",
    "    \n",
    "        decrypted_message = []\n",
    "        \n",
    "        for line in emessage:\n",
    "            for character in line:\n",
    "                if character in decryption_map:\n",
    "                    decrypted_message.append(decryption_map[character])\n",
    "                else:\n",
    "                    decrypted_message.append(character)\n",
    "\n",
    "        emessage.close()\n",
    "\n",
    "        print('Successful decryption. \\nYour message is: \\n\\n' + ''.join(decrypted_message))\n",
    "    \n",
    "    except:\n",
    "        print('Error. The decryption failed.')\n",
    "    \n",
    "\n",
    "decrypt()"
   ]
  },
  {
   "cell_type": "markdown",
   "metadata": {},
   "source": [
    "### 8: Bye"
   ]
  },
  {
   "cell_type": "code",
   "execution_count": 9,
   "metadata": {},
   "outputs": [
    {
     "name": "stdout",
     "output_type": "stream",
     "text": [
      "Bye! Have a nice day.\n"
     ]
    }
   ],
   "source": [
    "def bye():\n",
    "    print('Bye! Have a nice day.')\n",
    "\n",
    "bye()"
   ]
  },
  {
   "cell_type": "markdown",
   "metadata": {},
   "source": [
    "## Main Function"
   ]
  },
  {
   "cell_type": "code",
   "execution_count": null,
   "metadata": {
    "scrolled": false
   },
   "outputs": [],
   "source": [
    "import random as rd\n",
    "import string\n",
    "\n",
    "def main():\n",
    "    setkey()\n",
    "    \n",
    "    while True:\n",
    "        command = input('\\033[1m' + '\\n\\nEnter your command here: ' + '\\033[0m')\n",
    "\n",
    "        if command == 'show-message':\n",
    "            showmessage()\n",
    "        elif command == 'show-encrypted':\n",
    "            showencrypted()\n",
    "        elif command == 'show-key':\n",
    "            showkey()\n",
    "        elif command == 'set-key':\n",
    "            setkey()\n",
    "        elif command == 'show-map':\n",
    "            showmap()\n",
    "        elif command == 'encrypt':\n",
    "            encrypt()\n",
    "        elif command == 'decrypt':\n",
    "            decrypt()\n",
    "        elif command == 'bye':\n",
    "            bye()\n",
    "            break\n",
    "        else:\n",
    "            print('Error. Invalid command.')\n",
    "\n",
    "main()"
   ]
  }
 ],
 "metadata": {
  "kernelspec": {
   "display_name": "Python 3",
   "language": "python",
   "name": "python3"
  },
  "language_info": {
   "codemirror_mode": {
    "name": "ipython",
    "version": 3
   },
   "file_extension": ".py",
   "mimetype": "text/x-python",
   "name": "python",
   "nbconvert_exporter": "python",
   "pygments_lexer": "ipython3",
   "version": "3.8.5"
  }
 },
 "nbformat": 4,
 "nbformat_minor": 4
}
