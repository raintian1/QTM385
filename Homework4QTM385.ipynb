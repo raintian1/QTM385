{
 "cells": [
  {
   "cell_type": "markdown",
   "metadata": {},
   "source": [
    "# QTM 385\n",
    "\n",
    "***\n",
    "\n",
    "## Homework 4\n",
    "\n",
    "Student: Rain Tian 2280308"
   ]
  },
  {
   "cell_type": "markdown",
   "metadata": {},
   "source": [
    "In this homework, we will create an object called Student, that is useful for a professor to store information about a student."
   ]
  },
  {
   "cell_type": "markdown",
   "metadata": {},
   "source": [
    "\n",
    "***\n",
    "\n",
    "### Question 1\n",
    "\n",
    "Create a class Student, that has:\n",
    "\n",
    "0. Id number (5-digits integer, starting with 1)\n",
    "1. First Name (str)\n",
    "2. Last Name (str)\n",
    "3. Grades (list of floats)\n",
    "4. Credits (list of integers)\n",
    "5. Major (str)\n",
    "\n",
    "Provide a constructor for your class and create one fictitious student."
   ]
  },
  {
   "cell_type": "code",
   "execution_count": 51,
   "metadata": {},
   "outputs": [
    {
     "data": {
      "text/plain": [
       "('19462', 'Rain', 'Tian', [3.7, 3.3, 4.0], [2, 4, 3], 'BBAQSS')"
      ]
     },
     "execution_count": 51,
     "metadata": {},
     "output_type": "execute_result"
    }
   ],
   "source": [
    "# Your answer here\n",
    "class Student:\n",
    "    def __init__(self, ID, fname, lname, grd, crd, maj):\n",
    "        self.ID = ID\n",
    "        self.firstname = fname\n",
    "        self.lastname = lname\n",
    "        self.grades = grd\n",
    "        self.credits = crd\n",
    "        self.major = maj\n",
    "\n",
    "stu = Student('19462', 'Rain', 'Tian', [3.7, 3.3, 4.0], [2, 4, 3], 'BBAQSS')\n",
    "\n",
    "# Checking stored values\n",
    "stu.ID, stu.firstname, stu.lastname, stu.grades, stu.credits, stu.major "
   ]
  },
  {
   "cell_type": "markdown",
   "metadata": {},
   "source": [
    "\n",
    "***\n",
    "\n",
    "### Question 2\n",
    "\n",
    "Create a method to nicely display the student when we type `print`. It should display, for example:\n",
    "\n",
    "```\n",
    "Student:\n",
    "    Id: 12345\n",
    "    Name: Mig, Umberto\n",
    "    Major: QSS\n",
    "```\n",
    "\n",
    "Create a method that, when a variable storing a student is typed in the console, displays:\n",
    "\n",
    "```\n",
    "Student(Mig, Umberto; 12345)\n",
    "```\n",
    "\n",
    "Provide some testing with a fictitious result of your choice."
   ]
  },
  {
   "cell_type": "code",
   "execution_count": 52,
   "metadata": {},
   "outputs": [
    {
     "name": "stdout",
     "output_type": "stream",
     "text": [
      "\n",
      "        Student:\n",
      "            ID: 19462\n",
      "            Name: Tian, Rain\n",
      "            Major: BBAQSS\n",
      "            \n"
     ]
    },
    {
     "data": {
      "text/plain": [
       "Student(Tian, Rain; 19462)"
      ]
     },
     "execution_count": 52,
     "metadata": {},
     "output_type": "execute_result"
    }
   ],
   "source": [
    "# Your answer here\n",
    "class Student:\n",
    "    def __init__(self, ID, fname, lname, grd, crd, maj):\n",
    "        self.ID = ID\n",
    "        self.firstname = fname\n",
    "        self.lastname = lname\n",
    "        self.grades = grd\n",
    "        self.credits = crd\n",
    "        self.major = maj\n",
    "    \n",
    "    # Added Function\n",
    "    def __str__(self):\n",
    "        st_info = '''\n",
    "        Student:\n",
    "            ID: {ID1}\n",
    "            Name: {lastname1}, {firstname1}\n",
    "            Major: {major1}\n",
    "            '''.format(ID1 = self.ID, lastname1 = self.lastname, firstname1 = self.firstname, major1 = self.major)\n",
    "        return st_info\n",
    "    \n",
    "    def __repr__(self):\n",
    "        return \"Student({lastname2}, {firstname2}; {ID2})\".format(lastname2 = self.lastname, firstname2 = self.firstname, ID2 = self.ID) \n",
    "\n",
    "stu = Student('19462', 'Rain', 'Tian', [3.7, 3.3, 4.0], [19, 22, 6], 'BBAQSS')\n",
    "\n",
    "print(stu) # Checking first part\n",
    "stu        # Checking second part"
   ]
  },
  {
   "cell_type": "markdown",
   "metadata": {},
   "source": [
    "\n",
    "***\n",
    "\n",
    "### Question 3\n",
    "\n",
    "Implement class methods for:\n",
    "\n",
    "1. Check if the id number is valid (remember: 5 digits, starting with number one)\n",
    "2. Check if the grades list has the same length as the credits list. The idea is that every grade corresponds to a course that gave the student a certain amount of credits.\n",
    "3. Append grade and credit: given a grade, and credits attached to the grade, append both to each respective place.\n",
    "\n",
    "Test your function with a toy student of your choice."
   ]
  },
  {
   "cell_type": "code",
   "execution_count": 60,
   "metadata": {},
   "outputs": [
    {
     "name": "stdout",
     "output_type": "stream",
     "text": [
      "\u001b[1mStudent 1:\u001b[0m\n",
      "ID is valid.\n",
      "\u001b[1mStudent 2:\u001b[0m\n",
      "ID must start with 1.\n",
      "\u001b[1mStudent 3:\u001b[0m\n",
      "ID must be 5 digits.\n",
      "\n",
      "\u001b[1mStudent 1:\u001b[0m\n",
      "Student's grades correspond with credits.\n",
      "\u001b[1mStudent 2:\u001b[0m\n",
      "Not enough grades for each credit.\n",
      "\u001b[1mStudent 3:\u001b[0m\n",
      "Too many grades for each credit.\n",
      "\n",
      "\u001b[1mStudent 1:\u001b[0m\n",
      "Grade: 3.7, Credit: 2\n",
      "Grade: 3.3, Credit: 4\n",
      "Grade: 4.0, Credit: 3\n",
      "\u001b[1mStudent 2:\u001b[0m\n",
      "Grades and credits do not match.\n",
      "\u001b[1mStudent 3:\u001b[0m\n",
      "Grades and credits do not match.\n"
     ]
    }
   ],
   "source": [
    "# Your answer here\n",
    "class Student:\n",
    "    def __init__(self, ID, fname, lname, grd, crd, maj):\n",
    "        self.ID = ID\n",
    "        self.firstname = fname\n",
    "        self.lastname = lname\n",
    "        self.grades = grd\n",
    "        self.credits = crd\n",
    "        self.major = maj\n",
    "    \n",
    "    # Part 1\n",
    "    def idcheck(self):\n",
    "        if len(self.ID) == 5:\n",
    "            if self.ID[0] == \"1\":\n",
    "                print(\"ID is valid.\")\n",
    "            else:\n",
    "                print(\"ID must start with 1.\")\n",
    "        else:\n",
    "            print(\"ID must be 5 digits.\")\n",
    "    \n",
    "    # Part 2\n",
    "    def grdcrdcheck(self):\n",
    "        if len(self.grades) == len(self.credits):\n",
    "            print(\"Student's grades correspond with credits.\")\n",
    "        elif len(self.grades) <= len(self.credits):\n",
    "            print(\"Not enough grades for each credit.\")\n",
    "        else:\n",
    "            print(\"Too many grades for each credit.\")\n",
    "    \n",
    "    # Part 3        \n",
    "    def grdcrdappd(self):\n",
    "        if len(self.grades) == len(self.credits):\n",
    "            for g, c in zip(self.grades, self.credits):\n",
    "                print(\"Grade: \" + str(g) + \", Credit: \" + str(c))\n",
    "        else:\n",
    "            print(\"Grades and credits do not match.\")\n",
    "    \n",
    "    def __str__(self):\n",
    "        st_info = '''\n",
    "        Student:\n",
    "            ID: {ID1}\n",
    "            Name: {lastname1}, {firstname1}\n",
    "            Major: {major1}\n",
    "            '''.format(ID1 = self.ID, lastname1 = self.lastname, firstname1 = self.firstname, major1 = self.major)\n",
    "        return st_info\n",
    "    \n",
    "    def __repr__(self):\n",
    "        return \"Student({lastname2}, {firstname2}; {ID2})\".format(lastname2 = self.lastname, firstname2 = self.firstname, ID2 = self.ID) \n",
    "\n",
    "stu = Student('19462', 'Rain', 'Tian', [3.7, 3.3, 4.0], [2, 4, 3], 'BBAQSS')\n",
    "stu2 = Student('99462', 'Rain', 'Tian', [3.7, 3.3], [2, 4, 3], 'BBAQSS')\n",
    "stu3 = Student('19462234768', 'Rain', 'Tian', [3.7, 3.3, 4.0], [2, 4], 'BBAQSS')\n",
    "\n",
    "# Part 1 Check\n",
    "print('\\033[1m' + \"Student 1:\" + '\\033[0m')\n",
    "stu.idcheck()\n",
    "print('\\033[1m' + \"Student 2:\" + '\\033[0m')\n",
    "stu2.idcheck()\n",
    "print('\\033[1m' + \"Student 3:\" + '\\033[0m')\n",
    "stu3.idcheck()\n",
    "print()\n",
    "\n",
    "# Part 2 Check\n",
    "print('\\033[1m' + \"Student 1:\" + '\\033[0m')\n",
    "stu.grdcrdcheck()\n",
    "print('\\033[1m' + \"Student 2:\" + '\\033[0m')\n",
    "stu2.grdcrdcheck()\n",
    "print('\\033[1m' + \"Student 3:\" + '\\033[0m')\n",
    "stu3.grdcrdcheck()\n",
    "print()\n",
    "\n",
    "# Part 3 Check\n",
    "print('\\033[1m' + \"Student 1:\" + '\\033[0m')\n",
    "stu.grdcrdappd()\n",
    "print('\\033[1m' + \"Student 2:\" + '\\033[0m')\n",
    "stu2.grdcrdappd()\n",
    "print('\\033[1m' + \"Student 3:\" + '\\033[0m')\n",
    "stu3.grdcrdappd()"
   ]
  },
  {
   "cell_type": "markdown",
   "metadata": {},
   "source": [
    "\n",
    "***\n",
    "\n",
    "### Question 4\n",
    "\n",
    "Create a module in the class Student that computes the unweighted average of the student's grades."
   ]
  },
  {
   "cell_type": "code",
   "execution_count": 77,
   "metadata": {},
   "outputs": [
    {
     "data": {
      "text/plain": [
       "'Unweighted Average: 3.6666666666666665'"
      ]
     },
     "execution_count": 77,
     "metadata": {},
     "output_type": "execute_result"
    }
   ],
   "source": [
    "# Your answer here\n",
    "class Student:\n",
    "    def __init__(self, ID, fname, lname, grd, crd, maj):\n",
    "        self.ID = ID\n",
    "        self.firstname = fname\n",
    "        self.lastname = lname\n",
    "        self.grades = grd\n",
    "        self.credits = crd\n",
    "        self.major = maj\n",
    "    \n",
    "    # Added Function\n",
    "    def uwavg(self):\n",
    "        unweighted_average = sum(self.grades)/len(self.grades)\n",
    "        return \"Unweighted Average: \" + str(unweighted_average)\n",
    "    \n",
    "    def idcheck(self):\n",
    "        if len(self.ID) == 5:\n",
    "            if self.ID[0] == \"1\":\n",
    "                print(\"ID is valid.\")\n",
    "            else:\n",
    "                print(\"ID must start with 1.\")\n",
    "        else:\n",
    "            print(\"ID must be 5 digits.\")\n",
    "    \n",
    "    def grdcrdcheck(self):\n",
    "        if len(self.grades) == len(self.credits):\n",
    "            print(\"Student's grades correspond with credits.\")\n",
    "        elif len(self.grades) <= len(self.credits):\n",
    "            print(\"Not enough grades for each credit.\")\n",
    "        else:\n",
    "            print(\"Too many grades for each credit.\")\n",
    "          \n",
    "    def grdcrdappd(self):\n",
    "        if len(self.grades) == len(self.credits):\n",
    "            for g, c in zip(self.grades, self.credits):\n",
    "                print(\"Grade: \" + str(g) + \", Credit: \" + str(c))\n",
    "        else:\n",
    "            print(\"Grades and credits do not match.\")\n",
    "    \n",
    "    def __str__(self):\n",
    "        st_info = '''\n",
    "        Student:\n",
    "            ID: {ID1}\n",
    "            Name: {lastname1}, {firstname1}\n",
    "            Major: {major1}\n",
    "            '''.format(ID1 = self.ID, lastname1 = self.lastname, firstname1 = self.firstname, major1 = self.major)\n",
    "        return st_info\n",
    "    \n",
    "    def __repr__(self):\n",
    "        return \"Student({lastname2}, {firstname2}; {ID2})\".format(lastname2 = self.lastname, firstname2 = self.firstname, ID2 = self.ID) \n",
    "\n",
    "# Check\n",
    "stu = Student('19462', 'Rain', 'Tian', [3.7, 3.3, 4.0], [2, 4, 3], 'BBAQSS')\n",
    "stu.uwavg()\n"
   ]
  },
  {
   "cell_type": "markdown",
   "metadata": {},
   "source": [
    "\n",
    "***\n",
    "\n",
    "### Question 5\n",
    "\n",
    "Create a module in the class Student that computes the weighted average of the student's grades, weighted by the credits."
   ]
  },
  {
   "cell_type": "code",
   "execution_count": 80,
   "metadata": {},
   "outputs": [
    {
     "data": {
      "text/plain": [
       "'Weighted Average: 3.6222222222222222'"
      ]
     },
     "execution_count": 80,
     "metadata": {},
     "output_type": "execute_result"
    }
   ],
   "source": [
    "# Your answer here\n",
    "class Student:\n",
    "    def __init__(self, ID, fname, lname, grd, crd, maj):\n",
    "        self.ID = ID\n",
    "        self.firstname = fname\n",
    "        self.lastname = lname\n",
    "        self.grades = grd\n",
    "        self.credits = crd\n",
    "        self.major = maj\n",
    "    \n",
    "    # Added Function\n",
    "    def wtavg(self):\n",
    "        total = 0\n",
    "        if len(self.grades) == len(self.credits):\n",
    "            for g, c in zip(self.grades, self.credits):\n",
    "                indiv_total = g * c\n",
    "                total += indiv_total\n",
    "            weighted_average = total/sum(self.credits)\n",
    "            return \"Weighted Average: \" + str(weighted_average)\n",
    "        else:\n",
    "            print(\"Grades and credits do not match.\")\n",
    "        \n",
    "    def uwavg(self):\n",
    "        unweighted_average = sum(self.grades)/len(self.grades)\n",
    "        return \"Unweighted Average: \" + str(unweighted_average)\n",
    "    \n",
    "    def idcheck(self):\n",
    "        if len(self.ID) == 5:\n",
    "            if self.ID[0] == \"1\":\n",
    "                print(\"ID is valid.\")\n",
    "            else:\n",
    "                print(\"ID must start with 1.\")\n",
    "        else:\n",
    "            print(\"ID must be 5 digits.\")\n",
    "    \n",
    "    def grdcrdcheck(self):\n",
    "        if len(self.grades) == len(self.credits):\n",
    "            print(\"Student's grades correspond with credits.\")\n",
    "        elif len(self.grades) <= len(self.credits):\n",
    "            print(\"Not enough grades for each credit.\")\n",
    "        else:\n",
    "            print(\"Too many grades for each credit.\")\n",
    "          \n",
    "    def grdcrdappd(self):\n",
    "        if len(self.grades) == len(self.credits):\n",
    "            for g, c in zip(self.grades, self.credits):\n",
    "                print(\"Grade: \" + str(g) + \", Credit: \" + str(c))\n",
    "        else:\n",
    "            print(\"Grades and credits do not match.\")\n",
    "    \n",
    "    def __str__(self):\n",
    "        st_info = '''\n",
    "        Student:\n",
    "            ID: {ID1}\n",
    "            Name: {lastname1}, {firstname1}\n",
    "            Major: {major1}\n",
    "            '''.format(ID1 = self.ID, lastname1 = self.lastname, firstname1 = self.firstname, major1 = self.major)\n",
    "        return st_info\n",
    "    \n",
    "    def __repr__(self):\n",
    "        return \"Student({lastname2}, {firstname2}; {ID2})\".format(lastname2 = self.lastname, firstname2 = self.firstname, ID2 = self.ID) \n",
    "\n",
    "# Check\n",
    "stu = Student('19462', 'Rain', 'Tian', [3.7, 3.3, 4.0], [2, 4, 3], 'BBAQSS')\n",
    "stu.wtavg()"
   ]
  },
  {
   "cell_type": "markdown",
   "metadata": {},
   "source": [
    "**That's all, folks!**"
   ]
  }
 ],
 "metadata": {
  "kernelspec": {
   "display_name": "Python 3",
   "language": "python",
   "name": "python3"
  },
  "language_info": {
   "codemirror_mode": {
    "name": "ipython",
    "version": 3
   },
   "file_extension": ".py",
   "mimetype": "text/x-python",
   "name": "python",
   "nbconvert_exporter": "python",
   "pygments_lexer": "ipython3",
   "version": "3.8.5"
  }
 },
 "nbformat": 4,
 "nbformat_minor": 4
}
